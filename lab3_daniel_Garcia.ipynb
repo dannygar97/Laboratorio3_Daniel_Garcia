{
 "cells": [
  {
   "cell_type": "code",
   "execution_count": 1,
   "metadata": {},
   "outputs": [],
   "source": [
    "import numpy as np\n"
   ]
  },
  {
   "attachments": {},
   "cell_type": "markdown",
   "metadata": {},
   "source": [
    "Parte 1: Numpy:\n",
    "Para los ejercicios siguiente genere el código que considere \n",
    "para resolver el problema que se le plantea."
   ]
  },
  {
   "attachments": {},
   "cell_type": "markdown",
   "metadata": {},
   "source": [
    "### 1) ¿Cuál es el tamaño en bytes de un array de 1000 \n",
    "### elementos de tipo booleano?"
   ]
  },
  {
   "cell_type": "code",
   "execution_count": 2,
   "metadata": {},
   "outputs": [
    {
     "name": "stdout",
     "output_type": "stream",
     "text": [
      "el tamanio del arreglo es de: 8056 bytes\n"
     ]
    }
   ],
   "source": [
    "arr1 = [True]*1000\n",
    "import sys\n",
    "print(\"el tamanio del arreglo es de:\", sys.getsizeof(arr1),\"bytes\")"
   ]
  },
  {
   "attachments": {},
   "cell_type": "markdown",
   "metadata": {},
   "source": [
    "### Cree un array cuyos elementos sean los enteros pares en \n",
    "### [1,100] y en orden decreciente. Muestre los 10 últimos \n",
    "### por pantalla."
   ]
  },
  {
   "cell_type": "code",
   "execution_count": 3,
   "metadata": {},
   "outputs": [
    {
     "name": "stdout",
     "output_type": "stream",
     "text": [
      "[20 18 16 14 12 10  8  6  4  2]\n"
     ]
    }
   ],
   "source": [
    "arr2 = np.array(list(range(100,0,-2)))\n",
    "print(arr2[-10:])"
   ]
  },
  {
   "attachments": {},
   "cell_type": "markdown",
   "metadata": {},
   "source": [
    "###  Dado el array\n",
    "#### 2 4 5 6\n",
    "#### 0 3 7 4\n",
    "#### 8 8 5 2\n",
    "#### 1 5 6 1\n",
    "#### Seleccione con una instrucción el subarray de elementos\n",
    "#### 0 3 7 4\n",
    "#### Después, seleccione el subarray de elementos\n",
    "#### 2 5\n",
    "#### 8 5"
   ]
  },
  {
   "cell_type": "code",
   "execution_count": 4,
   "metadata": {},
   "outputs": [
    {
     "name": "stdout",
     "output_type": "stream",
     "text": [
      "[0 3 7 4]\n",
      "[[2 6]\n",
      " [8 2]]\n"
     ]
    }
   ],
   "source": [
    "arr3 = np.array([[2,4,5,6],[0,3,7,4],[8,8,5,2],[1,5,6,1]])\n",
    "subarray1 = arr3[1,0:4]\n",
    "subarray2 = arr3[0:3:2,0:4:3]\n",
    "print(subarray1)\n",
    "print(subarray2)"
   ]
  },
  {
   "attachments": {},
   "cell_type": "markdown",
   "metadata": {},
   "source": [
    "### 4) Dados los arrays a = [1, 4, 2, 7] y b = [1, 3, 2, 9], \n",
    "### obtenga la media aritmética de la diferencia (a-b)."
   ]
  },
  {
   "cell_type": "code",
   "execution_count": 5,
   "metadata": {},
   "outputs": [
    {
     "name": "stdout",
     "output_type": "stream",
     "text": [
      "-0.25\n"
     ]
    }
   ],
   "source": [
    "a = np.array([1,4,2,7])\n",
    "b = np.array([1,3,2,9])\n",
    "\n",
    "diferencia = a - b\n",
    "\n",
    "media = np.mean(diferencia)\n",
    "\n",
    "print(media)"
   ]
  },
  {
   "attachments": {},
   "cell_type": "markdown",
   "metadata": {},
   "source": [
    "### Tengo valores de cordenadas (x, y) en las columnas del array\n",
    "### 1.33 4.5\n",
    "### 30.0 10.7\n",
    "### 70.2 0.5\n",
    "### Agregue a este array las coordenadas (37.1, -3.6). \n",
    "### Muestre en pantalla las dimensiones del nuevo \n",
    "### array."
   ]
  },
  {
   "cell_type": "code",
   "execution_count": 6,
   "metadata": {},
   "outputs": [
    {
     "name": "stdout",
     "output_type": "stream",
     "text": [
      "(4, 2)\n",
      "[[ 1.33  4.5 ]\n",
      " [30.   10.7 ]\n",
      " [70.2   0.5 ]\n",
      " [37.1  -3.6 ]]\n"
     ]
    }
   ],
   "source": [
    "coordenadas = np.array([[1.33,4.5],[30.0,10.7],[70.2,0.5]])\n",
    "\n",
    "nuevas_coordenadas = np.array ([[37.1,-3.6]])\n",
    "coordenadas = np.concatenate((coordenadas,nuevas_coordenadas))\n",
    "print(coordenadas.shape)\n",
    "print(coordenadas)"
   ]
  },
  {
   "attachments": {},
   "cell_type": "markdown",
   "metadata": {},
   "source": [
    "### 6) Copie el array del ejercicio anterior. Traspóngalo (. \n",
    "### Agregue ahora dos nuevos pares de coordenadas: (10.8, \n",
    "### 3.0) y (35.8, 12.0)."
   ]
  },
  {
   "cell_type": "code",
   "execution_count": 8,
   "metadata": {},
   "outputs": [
    {
     "name": "stdout",
     "output_type": "stream",
     "text": [
      "Nuevo array: (6, 2)\n",
      "Dimensiones transpuesto: (2, 6)\n",
      "[[ 1.33  4.5 ]\n",
      " [30.   10.7 ]\n",
      " [70.2   0.5 ]\n",
      " [37.1  -3.6 ]\n",
      " [10.8   3.  ]\n",
      " [35.8  12.  ]]\n",
      "[[ 1.33 30.   70.2  37.1  10.8  35.8 ]\n",
      " [ 4.5  10.7   0.5  -3.6   3.   12.  ]]\n"
     ]
    }
   ],
   "source": [
    "coordenadas = np.array([[1.33, 4.5],[30.0, 10.7], [70.2, 0.5]])\n",
    "\n",
    "# Agregar nuevas coordenadas\n",
    "nuevas_coordenadas = np.array([[37.1, -3.6], [10.8, 3.0],  [35.8, 12.0]])\n",
    "\n",
    "coordenadas = np.append(coordenadas, nuevas_coordenadas,axis = 0)\n",
    "\n",
    "# Transponer el array\n",
    "coordenadas_t = coordenadas.transpose()\n",
    "\n",
    "print(\"Nuevo array:\", coordenadas.shape)\n",
    "print(\"Dimensiones transpuesto:\", coordenadas_t.shape)\n",
    "print(coordenadas)\n",
    "print(coordenadas_t)\n",
    "\n",
    "\n"
   ]
  },
  {
   "attachments": {},
   "cell_type": "markdown",
   "metadata": {},
   "source": [
    "# Parte 2: Exploración y Minería de Datos:"
   ]
  },
  {
   "attachments": {},
   "cell_type": "markdown",
   "metadata": {},
   "source": [
    "#### Con el dataset nucleospoblacion.csv adjunto al #### laboratorio, \n",
    "#### luego responda las siguientes preguntas usando pandas y \n",
    "#### matplotlib.\n",
    "#### 1) ¿Cuántos Municipios tienen más de 100000 habitantes?."
   ]
  },
  {
   "cell_type": "code",
   "execution_count": 9,
   "metadata": {},
   "outputs": [],
   "source": [
    "import pandas as pd\n",
    "df = pd.read_csv('NucleosPoblacion.csv')"
   ]
  },
  {
   "cell_type": "code",
   "execution_count": 12,
   "metadata": {},
   "outputs": [
    {
     "name": "stdout",
     "output_type": "stream",
     "text": [
      "hay 62 municipios con mas de 100,000 habitantes.\n"
     ]
    }
   ],
   "source": [
    "municipios_100k = df[df['Poblacion']>100000]\n",
    "cantidad_municipios=len(municipios_100k)\n",
    "print(f\"hay {cantidad_municipios} municipios con mas de 100,000 habitantes.\")\n"
   ]
  }
 ],
 "metadata": {
  "kernelspec": {
   "display_name": "base",
   "language": "python",
   "name": "python3"
  },
  "language_info": {
   "codemirror_mode": {
    "name": "ipython",
    "version": 3
   },
   "file_extension": ".py",
   "mimetype": "text/x-python",
   "name": "python",
   "nbconvert_exporter": "python",
   "pygments_lexer": "ipython3",
   "version": "3.9.13"
  },
  "orig_nbformat": 4
 },
 "nbformat": 4,
 "nbformat_minor": 2
}
